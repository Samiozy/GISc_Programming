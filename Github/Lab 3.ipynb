{
 "cells": [
  {
   "cell_type": "markdown",
   "id": "e9044785",
   "metadata": {},
   "source": [
    "## Lab 3 - Samuel Akinnusi"
   ]
  },
  {
   "cell_type": "markdown",
   "id": "db6b1002",
   "metadata": {},
   "source": [
    "* Question 1:\tWithin 15-mile buffers of I40 and I80, which highway’s buffer contains more population? How about Hispanics population? (4 Points) "
   ]
  },
  {
   "cell_type": "markdown",
   "id": "74d214c1",
   "metadata": {},
   "source": [
    "* The answer is in the word document \n",
    "Within 15-mile buffers of I40 and I80, which highway’s buffer contains more population? How about Hispanics population? (4 Points) \n",
    "I40 Population: 4820799\t    Hispanics Population: 280508\n",
    "I80 Population: 20917371\tHispanics Population: 3042152"
   ]
  },
  {
   "cell_type": "markdown",
   "id": "a6423d2b",
   "metadata": {},
   "source": [
    "* Question 2: Within 30-mile buffers of I40 and I90, which highway’s buffer contains more population? How about Hispanics population? (4 Points)"
   ]
  },
  {
   "cell_type": "markdown",
   "id": "b3db1667",
   "metadata": {},
   "source": [
    "* The answer is in the word document\n",
    "I40 Population: 5325096\t    Hispanics Population: 301584\n",
    "I90 Population: 18422016\tHispanics Population: 1381445\n",
    "From the result of the geoprocessing analysis, the 30 miles buffer area around I90 contains more population than the 30 miles buffer zone around I40."
   ]
  },
  {
   "cell_type": "markdown",
   "id": "b0127153",
   "metadata": {},
   "source": [
    "* Question 3: \n",
    "Please convert your model to a python script, which allows a user to specify two Interstates (such as I40 and I80), and a buffer distance (such as 30, 45, or 60) value, then your script will output two shapefiles for selected cities (for example, cities in I40’s 30 mile will be exported as CitiesI40Buf30.shp). \n",
    "##### (Bonus question – could you also output the summarized population value for each city shapefile? – suppose you want to summarize pop1990. 5 points) (4 Points)"
   ]
  },
  {
   "cell_type": "code",
   "execution_count": 2,
   "id": "3f9b1489",
   "metadata": {},
   "outputs": [
    {
     "name": "stdout",
     "output_type": "stream",
     "text": [
      "Please type two highways to analyze - Ex: I40 I80\n",
      "I40 I80\n",
      "Please input the buffer distance value here (in miles): Ex-30\n",
      "30\n",
      "All Completed\n"
     ]
    }
   ],
   "source": [
    "import arcpy\n",
    "# To allow overwriting outputs change overwriteOutput option to True.\n",
    "# set up environment variables\n",
    "arcpy.env.overwriteOutput = True\n",
    "arcpy.env.workspace = \"C:\\\\Users\\\\Samuel\\\\Documents\\\\GEOG_592\\\\Lab3\\\\New\\\\\"\n",
    "\n",
    "CITIES_SHP = \"CITIES.SHP\"\n",
    "intrstat = \"intrstat.shp\"\n",
    "\n",
    "#get user input for two highways choices\n",
    "highwayList_str = input('Please type two highways to analyze - Ex: I40 I80\\n')\n",
    "highwayList = highwayList_str.split()\n",
    "highway1 = highwayList[0]\n",
    "buffer_Dist_Str = input('Please input the buffer distance value here (in miles): Ex-30\\n')\n",
    "\n",
    "for aHighway in highwayList:\n",
    "    # Process: Select (Select) (analysis)\n",
    "    highway_Select_shp = \"highway_Select.shp\"\n",
    "    arcpy.analysis.Select(intrstat, highway_Select_shp, \"ROUTE_NUM = '\"+aHighway+\"'\") #the plus sign is to attach a quote to the aHighway object after getting it\n",
    "    hwysel = arcpy.analysis.Select(intrstat, highway_Select_shp, \"ROUTE_NUM = '\"+aHighway+\"'\") #the same as highway_select_shp in line 18\n",
    "\n",
    "    # Process: Buffer (Buffer) (analysis)\n",
    "    highwaySelBuffer = \"highwaySelBuffer.shp\"\n",
    "    arcpy.analysis.Buffer(highway_Select_shp, highwaySelBuffer, buffer_Dist_Str+\" Miles\", \"FULL\", \"ROUND\", \"NONE\", [], \"PLANAR\")\n",
    "\n",
    "    # Process: Clip (Clip) (analysis)\n",
    "    CITIES_Clip = \"CITIES_Clip.shp\"\n",
    "    arcpy.analysis.Clip(CITIES_SHP, highwaySelBuffer, CITIES_Clip)\n",
    "\n",
    "    # Process: Summary Statistics (Summary Statistics) (analysis)\n",
    "    Sum_table_dbf = \"cities\"+aHighway+\"Buf\"+buffer_Dist_Str+\".dbf\"\n",
    "    arcpy.analysis.Statistics(CITIES_Clip, Sum_table_dbf, [[\"POP1990\", \"SUM\"], [\"BLACK\", \"SUM\"], [\"HISPANIC\", \"SUM\"]])\n",
    "    \n",
    "print('All Completed')"
   ]
  },
  {
   "cell_type": "markdown",
   "id": "519155fc",
   "metadata": {},
   "source": [
    "* Question 4: Within one python script, first clip out cities within Orange County and Durham County, and output data to your lab3 folder. Then buffer all cities with distance = 3 miles. Before exit, please delete the clipped result (cities_clip.shp). (4 Points)"
   ]
  },
  {
   "cell_type": "code",
   "execution_count": 3,
   "id": "869d3992",
   "metadata": {},
   "outputs": [
    {
     "data": {
      "text/html": [
       "<div class='gpresult'><h2>Messages</h2><div id='messages' data-messages='[\"Start Time: Wednesday, February 15, 2023 4:48:09 PM\",\"Succeeded at Wednesday, February 15, 2023 4:48:09 PM (Elapsed Time: 0.05 seconds)\"]' data-show='true'><div id = 'default' /></div></div>"
      ],
      "text/plain": [
       "<Result 'true'>"
      ]
     },
     "execution_count": 3,
     "metadata": {},
     "output_type": "execute_result"
    }
   ],
   "source": [
    "import arcpy\n",
    "# To allow overwriting outputs change overwriteOutput option to True.\n",
    "# set up environment variables\n",
    "arcpy.env.overwriteOutput = True\n",
    "arcpy.env.workspace = \"C:\\\\Users\\\\Samuel\\\\Documents\\\\GEOG_592\\\\Lab3\\\\New\\\\\"\n",
    "\n",
    "#define your shapefile or feature class variables\n",
    "CITIES_SHP = \"CITIES.SHP\"\n",
    "orange_durham = \"orange_durham.shp\"\n",
    "\n",
    "# Process: Clip (Clip) (analysis): clip out cities in durham and orange county\n",
    "CITIES_Clip_OrDu = \"CITIES_Clip_OrDu.shp\"\n",
    "arcpy.analysis.Clip(CITIES_SHP, orange_durham, CITIES_Clip_OrDu)\n",
    "\n",
    "# Process: Buffer all cities with distance = 3 miles\n",
    "citiesBuffer = \"citiesBuffer.shp\"\n",
    "arcpy.analysis.Buffer(CITIES_Clip_OrDu, citiesBuffer, \"3 Miles\", \"FULL\", \"ROUND\", \"NONE\", [], \"PLANAR\")\n",
    "\n",
    "# Delete the clipped result (CITIES_Clip_OrDu.shp)\n",
    "arcpy.Delete_management(CITIES_Clip_OrDu)"
   ]
  },
  {
   "cell_type": "markdown",
   "id": "92085c4f",
   "metadata": {},
   "source": [
    "* Question 5:\tIn another python script, please select all cities with population greater than 250000, and output it as cities_250000.shp, under your lab3 folder. (4 Points)"
   ]
  },
  {
   "cell_type": "code",
   "execution_count": 4,
   "id": "e9cb0541",
   "metadata": {},
   "outputs": [
    {
     "data": {
      "text/html": [
       "<div class='gpresult'><h2>Messages</h2><div id='messages' data-messages='[\"Start Time: Wednesday, February 15, 2023 4:48:12 PM\",\"Succeeded at Wednesday, February 15, 2023 4:48:13 PM (Elapsed Time: 0.10 seconds)\"]' data-show='true'><div id = 'default' /></div></div>"
      ],
      "text/plain": [
       "<Result 'C:\\\\Users\\\\Samuel\\\\Documents\\\\GEOG_592\\\\Lab3\\\\New\\\\cities_250000.shp'>"
      ]
     },
     "execution_count": 4,
     "metadata": {},
     "output_type": "execute_result"
    }
   ],
   "source": [
    "import arcpy\n",
    "# To allow overwriting outputs change overwriteOutput option to True.\n",
    "# set up environment variables\n",
    "arcpy.env.overwriteOutput = True\n",
    "arcpy.env.workspace = \"C:\\\\Users\\\\Samuel\\\\Documents\\\\GEOG_592\\\\Lab3\\\\New\\\\\"\n",
    "\n",
    "#define your shapefile or feature class variables\n",
    "CITIES_SHP = \"CITIES.SHP\"\n",
    "\n",
    "# Process: Select all cities with population greater than 250000\n",
    "cities_250000 = \"cities_250000.shp\"\n",
    "arcpy.analysis.Select(CITIES_SHP, cities_250000, \"POP1990 > 250000\")"
   ]
  }
 ],
 "metadata": {
  "kernelspec": {
   "display_name": "Python 3 (ipykernel)",
   "language": "python",
   "name": "python3"
  },
  "language_info": {
   "codemirror_mode": {
    "name": "ipython",
    "version": 3
   },
   "file_extension": ".py",
   "mimetype": "text/x-python",
   "name": "python",
   "nbconvert_exporter": "python",
   "pygments_lexer": "ipython3",
   "version": "3.9.16"
  }
 },
 "nbformat": 4,
 "nbformat_minor": 5
}
