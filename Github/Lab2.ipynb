{
 "cells": [
  {
   "cell_type": "markdown",
   "id": "df5a85fb",
   "metadata": {},
   "source": [
    "## Lab 2 - Samuel Akinnusi"
   ]
  },
  {
   "cell_type": "markdown",
   "id": "ea43f991",
   "metadata": {},
   "source": [
    "### Question 1\n",
    "In q1.py, please ask a user to input the radius value for a circle, then prompt the user with its area and perimeter values."
   ]
  },
  {
   "cell_type": "code",
   "execution_count": null,
   "id": "c615b63e",
   "metadata": {},
   "outputs": [],
   "source": [
    "def CircleMetric():\n",
    "    import math #import the math package\n",
    "    radius = int(input('Input the radius value:'))\n",
    "    area = math.pi*radius**2 #find the area of the circle\n",
    "    perimeter = 2*math.pi*radius #find the perimeter of the circle\n",
    "    print('The area is', '%.2f' %area, 'and the perimeter is', '%.2f' %perimeter)\n",
    "CircleMetric()"
   ]
  },
  {
   "cell_type": "markdown",
   "id": "a7537cb7",
   "metadata": {},
   "source": [
    "### Question 2\n",
    "In q2.py, please ask a user to input a list of numbers, separated by space, then prompt the user with the average, median, sum of the list, and also output a sorted list. You are not allowed to use any modules (such as numpy) to complete this question."
   ]
  },
  {
   "cell_type": "code",
   "execution_count": 13,
   "id": "8f93ff94",
   "metadata": {},
   "outputs": [
    {
     "name": "stdout",
     "output_type": "stream",
     "text": [
      "input a list of numbers separated by a space:1 2 3 4 6\n",
      "Average = 3.2 \n",
      "Median = 3.0 \n",
      "Sum = 16.0\n",
      "Sorted List: [1, 2, 3, 4, 6]\n"
     ]
    }
   ],
   "source": [
    "def Statistic():\n",
    "    try:\n",
    "        Input = input('input a list of numbers separated by a space:')\n",
    "        num = Input.split(' ')\n",
    "        numList = [int(i) for i in num]\n",
    "        numList = sorted(numList)\n",
    "        average = sum(numList)/len(numList) #Find the average\n",
    "        Sum = sum(numList) #Find the sum\n",
    "        if len(numList)%2 == 0: #Find the median\n",
    "            r=len(numList)//2\n",
    "            median = (numList[r-1]+numList[r])/2\n",
    "        else:\n",
    "            r=len(numList)//2\n",
    "            median = numList[r]\n",
    "        print('Average =', '%.1f' %average, '\\nMedian =', '%.1f' %median, '\\nSum =', '%.1f' %Sum)\n",
    "        print(\"Sorted List:\", numList) #output a sorted list\n",
    "    except:\n",
    "        print('Invalid input')\n",
    "Statistic()"
   ]
  },
  {
   "cell_type": "markdown",
   "id": "e3064adf",
   "metadata": {},
   "source": [
    "### Question 3\n",
    "In q3.py, please find NC2010.txt in lab2 folder first, then calculate the population change for each county from 2000-2010, and output the result to a textfile ( ncpopchg.txt). You could use this output format - CountyName, PopChg%"
   ]
  },
  {
   "cell_type": "code",
   "execution_count": 59,
   "id": "14447ffa",
   "metadata": {},
   "outputs": [],
   "source": [
    "ncFile = open('NC2010.txt', 'r') #reading your NC2010.txt file\n",
    "allLines = ncFile.readlines()[1:] #read each line of the content starting from the line2\n",
    "file = open('ncpopchg.txt', 'w')\n",
    "for  aLine in allLines:\n",
    "    aListTokens = aLine.split(\",\")\n",
    "    aListTokens[6], aListTokens[8] = int(aListTokens[6]), int(aListTokens[8]) #convert the values from string to int/float\n",
    "    change = ((aListTokens[8]-aListTokens[6])/aListTokens[6])*100\n",
    "    #print(aListTokens[1]+',', '%.2f' %change+'%')\n",
    "    file.write(aListTokens[1]+',')\n",
    "    file.write(str(change)+'%'+'\\n')\n",
    "ncFile.close()\n",
    "file.close()"
   ]
  },
  {
   "cell_type": "markdown",
   "id": "b0a76e07",
   "metadata": {},
   "source": [
    "### Question 4\n",
    "In q4.py, please modify q3.py, so you can output a sorted county list, based on populate change from 2000-2010, save the output to ncpopchgSorted.txt."
   ]
  },
  {
   "cell_type": "code",
   "execution_count": 1,
   "id": "c32c6ed7",
   "metadata": {},
   "outputs": [],
   "source": [
    "ncFile = open('NC2010.txt', 'r') #reading your NC2010.txt file\n",
    "allLines = ncFile.readlines()[1:] #read each line of the content starting from the line2\n",
    "file = open('ncpopchgsorted.txt', 'w')\n",
    "cntyList = [] #construct a county list object to store county name and the pop change value\n",
    "for  aLine in allLines:\n",
    "    aListTokens = aLine.split(\",\")\n",
    "    aListTokens[6], aListTokens[8] = int(aListTokens[6]), int(aListTokens[8]) #convert the values from string to int/float\n",
    "    change = ((aListTokens[8]-aListTokens[6])/aListTokens[6])*100\n",
    "    #group the county list over the iteration\n",
    "    cntyList.append((aListTokens[1], change))\n",
    "cntyList.sort(key=lambda x:x[1]) #cntyList is like a container each element is a value\n",
    "for acnty in cntyList:\n",
    "    alinestring=acnty[0]+','+str(acnty[1])+'\\n'\n",
    "    file.write(alinestring)\n",
    "    #file.write(aListTokens[1]+',')\n",
    "    #file.write(str(change)+'%'+'\\n')\n",
    "ncFile.close() #remember to close both files\n",
    "file.close()"
   ]
  },
  {
   "cell_type": "markdown",
   "id": "f46c58c7",
   "metadata": {},
   "source": [
    "### Question 5\n",
    "* Given two list of coordinates -\n",
    "* list1 =[(10,20),(25,8),(34,22),(17,35),(9,1),(31,20),(44,11)]\n",
    "* list2 = [(1,21),(19,22),(23,12),(51,26),(78,61),(41,17),(11,21),(81,10),(79,51)]\n",
    "* In your q5.py, please find the mean center of both point lists and output the value; please find the average distance between a point in list1 and a point in list2."
   ]
  },
  {
   "cell_type": "code",
   "execution_count": 11,
   "id": "1a91b149",
   "metadata": {},
   "outputs": [
    {
     "name": "stdout",
     "output_type": "stream",
     "text": [
      "X = 34.62, Y = 22.38\n"
     ]
    }
   ],
   "source": [
    "list1 =[(10,20),(25,8),(34,22),(17,35),(9,1),(31,20),(44,11)]\n",
    "list2 = [(1,21),(19,22),(23,12),(51,26),(78,61),(41,17),(11,21),(81,10),(79,51)]\n",
    "AllList = list1 + list2\n",
    "\n",
    "#calculate the mean center of both list\n",
    "def MeanCentre(List):\n",
    "    mPoint = [0,0]\n",
    "    n=0\n",
    "    for p in List:\n",
    "        mPoint[0] += p[0]\n",
    "        mPoint[1] += p[1]\n",
    "        n+=1\n",
    "    x = mPoint[0]/n\n",
    "    y = mPoint[1]/n\n",
    "    print('X = ''%.2f' %x+',','Y = ' '%.2f'%y)\n",
    "MeanCentre(AllList)"
   ]
  },
  {
   "cell_type": "code",
   "execution_count": 5,
   "id": "b606317a",
   "metadata": {},
   "outputs": [
    {
     "name": "stdout",
     "output_type": "stream",
     "text": [
      "The average distance between a point in list1 and a point in list2: 35.78\n"
     ]
    }
   ],
   "source": [
    "# Find the average distance between a point in list1 and a point in list2\n",
    "def AverageDist(list1,list2):\n",
    "    total_distance = 0\n",
    "    for point1 in list1:\n",
    "        for point2 in list2:\n",
    "            distance = ((point1[0] - point2[0])**2 + (point1[1] - point2[1])**2)**.5\n",
    "            total_distance += distance\n",
    "    average_distance = total_distance / (len(list1) * len(list2))\n",
    "    print(\"The average distance between a point in list1 and a point in list2:\", '%.2f'%average_distance)\n",
    "AverageDist(list1,list2)"
   ]
  },
  {
   "cell_type": "markdown",
   "id": "ce73306c",
   "metadata": {},
   "source": [
    "### Question 6\n",
    "Please find two text files in lab2 folder. Cities.txt contains a list of cities, along with their SPC(FEET) coordinate values. Locations.txt contains a list of candidate locations, along with their coordinate values (Also in SPC FEET). The rule for selecting the best location for a regional human resource department is simple ¨C the location which has the minimum distance from all cities. Write a python script to find out the best location. Please output: \n",
    "* (a) best location id \n",
    "* (b) its average distance (in miles) from all cities."
   ]
  },
  {
   "cell_type": "code",
   "execution_count": 14,
   "id": "4fb70c66",
   "metadata": {},
   "outputs": [
    {
     "name": "stdout",
     "output_type": "stream",
     "text": [
      "[('5', 77.39986282521444), ('3', 94.46162861276662), ('2', 97.48792454342698), ('4', 113.07786682537315), ('1', 117.6450035612132)]\n",
      "The shortest distance has a locationID 5 with a distance of 77.40 miles\n"
     ]
    }
   ],
   "source": [
    "loc_file = open('locations.txt','r') #open and read the location file\n",
    "cities_file = open('cities.txt','r') #open and read the cities file\n",
    "loc_lines = loc_file.readlines()[1:] #read each lines in location.txt file starting from line 2\n",
    "city_lines = cities_file.readlines()[1:] #read each lines in cities.txt file starting from line 2\n",
    "locationList = []\n",
    "\n",
    "#append one location record in each main iteration which contains location ID + accumulatd distance from that location \n",
    "#to all cities\n",
    "\n",
    "for alocation in loc_lines:\n",
    "    alocArcList = alocation.split(',')\n",
    "    #retrieve locationID, locX and locY - donot forget to convert string values to decimal values \n",
    "    #locX = float(alocArgList[1])\n",
    "    \n",
    "    locID = alocArcList[0]\n",
    "    locX = float(alocArcList[1])\n",
    "    locY = float(alocArcList[2])\n",
    "    \n",
    "    totalDist = 0 #track total dist from a location to all cities\n",
    "    for aCity in city_lines:\n",
    "        aCityArgList = aCity.split(',')\n",
    "        #retrieve CityName, cityX and cityY - donot forget to convert string values to decimal values\n",
    "        CityName = aCityArgList[0]\n",
    "        cityX = float(aCityArgList[1])\n",
    "        cityY = float(aCityArgList[2])\n",
    "        dist = ((cityX-locX)**2 + (cityY-locY)**2)**.5\n",
    "        totalDist += dist\n",
    "        totalDistMiles = totalDist/5280 #divide the total distance by 5280 to convert from feet to miles\n",
    "        \n",
    "    #backspace to outside the second loop to append the dist/locID to the locationList\n",
    "    locationList.append((locID, totalDistMiles))\n",
    "\n",
    "locationList.sort(key=lambda x:x[1]) #sort the list based on the second element of each item in the list\n",
    "locationList[0][0]\n",
    "print(locationList)\n",
    "print('The shortest distance has a locationID', locationList[0][0], 'with a distance of', '%.2f'%locationList[0][1], 'miles')\n",
    "\n",
    "loc_file.close()\n",
    "cities_file.close()"
   ]
  },
  {
   "cell_type": "code",
   "execution_count": null,
   "id": "135147a7",
   "metadata": {},
   "outputs": [],
   "source": []
  }
 ],
 "metadata": {
  "kernelspec": {
   "display_name": "Python 3 (ipykernel)",
   "language": "python",
   "name": "python3"
  },
  "language_info": {
   "codemirror_mode": {
    "name": "ipython",
    "version": 3
   },
   "file_extension": ".py",
   "mimetype": "text/x-python",
   "name": "python",
   "nbconvert_exporter": "python",
   "pygments_lexer": "ipython3",
   "version": "3.9.16"
  }
 },
 "nbformat": 4,
 "nbformat_minor": 5
}
